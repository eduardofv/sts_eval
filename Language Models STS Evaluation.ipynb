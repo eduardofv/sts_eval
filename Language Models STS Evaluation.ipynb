{
 "cells": [
  {
   "cell_type": "markdown",
   "id": "932de9cb",
   "metadata": {},
   "source": [
    "# Language Models STS Evaluation\n",
    "\n",
    "Visualization of STS Evaluation Results"
   ]
  },
  {
   "cell_type": "code",
   "execution_count": 1,
   "id": "d2dbe842",
   "metadata": {},
   "outputs": [
    {
     "name": "stderr",
     "output_type": "stream",
     "text": [
      "Matplotlib created a temporary config/cache directory at /tmp/matplotlib-t29sd80f because the default path (/.config/matplotlib) is not a writable directory; it is highly recommended to set the MPLCONFIGDIR environment variable to a writable directory, in particular to speed up the import of Matplotlib and to better support multiprocessing.\n"
     ]
    }
   ],
   "source": [
    "import matplotlib.pyplot as plt\n",
    "from os.path import join \n",
    "\n",
    "from analysis_utils import *\n",
    "\n",
    "plt.rcParams['figure.figsize'] = [8, 8]\n",
    "EVALUATION_DIR = \"results\"\n",
    "IMG_DIR = \"img\""
   ]
  },
  {
   "cell_type": "code",
   "execution_count": 2,
   "id": "3a93694c",
   "metadata": {},
   "outputs": [],
   "source": [
    "evaluations = load_evaluation_dir(EVALUATION_DIR)"
   ]
  },
  {
   "cell_type": "markdown",
   "id": "48d4d573",
   "metadata": {},
   "source": [
    "## STS Benchmark\n",
    "\n",
    "STS Benchmark comprises a selection of the English datasets used in the STS tasks organized in the context of SemEval between 2012 and 2017. The selection of datasets include text from image captions, news headlines and user forums. *(from http://ixa2.si.ehu.eus/stswiki/index.php/STSbenchmark)*"
   ]
  },
  {
   "cell_type": "code",
   "execution_count": 3,
   "id": "3b81d0d9",
   "metadata": {},
   "outputs": [
    {
     "data": {
      "text/html": [
       "<div>\n",
       "<style scoped>\n",
       "    .dataframe tbody tr th:only-of-type {\n",
       "        vertical-align: middle;\n",
       "    }\n",
       "\n",
       "    .dataframe tbody tr th {\n",
       "        vertical-align: top;\n",
       "    }\n",
       "\n",
       "    .dataframe thead th {\n",
       "        text-align: right;\n",
       "    }\n",
       "</style>\n",
       "<table border=\"1\" class=\"dataframe\">\n",
       "  <thead>\n",
       "    <tr style=\"text-align: right;\">\n",
       "      <th></th>\n",
       "      <th>value</th>\n",
       "      <th>timestamp</th>\n",
       "      <th>class</th>\n",
       "      <th>model_url</th>\n",
       "    </tr>\n",
       "  </thead>\n",
       "  <tbody>\n",
       "    <tr>\n",
       "      <th>avg_glove_6B_300d-stsb-cos</th>\n",
       "      <td>0.623545</td>\n",
       "      <td>2021-06-14 23:31:45</td>\n",
       "      <td>SentenceTransformerSTSEvaluator</td>\n",
       "      <td>models/average_word_embeddings_glove.6B.300d</td>\n",
       "    </tr>\n",
       "    <tr>\n",
       "      <th>nnlmen50_2-stsb-cos</th>\n",
       "      <td>0.488046</td>\n",
       "      <td>2021-06-14 23:47:29</td>\n",
       "      <td>BasicTFHubSTSEvaluator</td>\n",
       "      <td>https://tfhub.dev/google/nnlm-en-dim50/2</td>\n",
       "    </tr>\n",
       "    <tr>\n",
       "      <th>stsb_roberta_base_2-stsb-cos</th>\n",
       "      <td>0.886165</td>\n",
       "      <td>2021-06-14 23:33:49</td>\n",
       "      <td>SentenceTransformerSTSEvaluator</td>\n",
       "      <td>stsb-roberta-base-v2</td>\n",
       "    </tr>\n",
       "    <tr>\n",
       "      <th>pp_mpnet_base_2-stsb-cos</th>\n",
       "      <td>0.891212</td>\n",
       "      <td>2021-06-14 23:59:49</td>\n",
       "      <td>SentenceTransformerSTSEvaluator</td>\n",
       "      <td>paraphrase-mpnet-base-v2</td>\n",
       "    </tr>\n",
       "    <tr>\n",
       "      <th>usem3-stsb-cos</th>\n",
       "      <td>0.835133</td>\n",
       "      <td>2021-06-14 23:49:43</td>\n",
       "      <td>BasicTFHubSTSEvaluator</td>\n",
       "      <td>https://tfhub.dev/google/universal-sentence-en...</td>\n",
       "    </tr>\n",
       "  </tbody>\n",
       "</table>\n",
       "</div>"
      ],
      "text/plain": [
       "                                 value            timestamp  \\\n",
       "avg_glove_6B_300d-stsb-cos    0.623545  2021-06-14 23:31:45   \n",
       "nnlmen50_2-stsb-cos           0.488046  2021-06-14 23:47:29   \n",
       "stsb_roberta_base_2-stsb-cos  0.886165  2021-06-14 23:33:49   \n",
       "pp_mpnet_base_2-stsb-cos      0.891212  2021-06-14 23:59:49   \n",
       "usem3-stsb-cos                0.835133  2021-06-14 23:49:43   \n",
       "\n",
       "                                                        class  \\\n",
       "avg_glove_6B_300d-stsb-cos    SentenceTransformerSTSEvaluator   \n",
       "nnlmen50_2-stsb-cos                    BasicTFHubSTSEvaluator   \n",
       "stsb_roberta_base_2-stsb-cos  SentenceTransformerSTSEvaluator   \n",
       "pp_mpnet_base_2-stsb-cos      SentenceTransformerSTSEvaluator   \n",
       "usem3-stsb-cos                         BasicTFHubSTSEvaluator   \n",
       "\n",
       "                                                                      model_url  \n",
       "avg_glove_6B_300d-stsb-cos         models/average_word_embeddings_glove.6B.300d  \n",
       "nnlmen50_2-stsb-cos                    https://tfhub.dev/google/nnlm-en-dim50/2  \n",
       "stsb_roberta_base_2-stsb-cos                               stsb-roberta-base-v2  \n",
       "pp_mpnet_base_2-stsb-cos                               paraphrase-mpnet-base-v2  \n",
       "usem3-stsb-cos                https://tfhub.dev/google/universal-sentence-en...  "
      ]
     },
     "execution_count": 3,
     "metadata": {},
     "output_type": "execute_result"
    }
   ],
   "source": [
    "data = get_benchmark_df(evaluations, \"stsbenchmark\", eval_metric=\"spearman\")\n",
    "data"
   ]
  },
  {
   "cell_type": "code",
   "execution_count": 4,
   "id": "af06ebfa",
   "metadata": {},
   "outputs": [
    {
     "data": {
      "image/png": "[encoded data removed]",
      "text/plain": [
       "<Figure size 576x576 with 1 Axes>"
      ]
     },
     "metadata": {
      "needs_background": "light"
     },
     "output_type": "display_data"
    }
   ],
   "source": [
    "plot_benchmark(data, \"STSb - Spearman\", join(IMG_DIR,\"stsb-spearman\"))"
   ]
  },
  {
   "cell_type": "markdown",
   "id": "15c6a618",
   "metadata": {},
   "source": [
    "## STS-es: STS 2017 Task 1 Track 3 es-es\n",
    "\n",
    "This dataset evaluate semantic textual similarity between Spanish sentences. *(from https://alt.qcri.org/semeval2017/task1/)*"
   ]
  },
  {
   "cell_type": "code",
   "execution_count": 5,
   "id": "f0dbd2bf",
   "metadata": {},
   "outputs": [
    {
     "data": {
      "text/html": [
       "<div>\n",
       "<style scoped>\n",
       "    .dataframe tbody tr th:only-of-type {\n",
       "        vertical-align: middle;\n",
       "    }\n",
       "\n",
       "    .dataframe tbody tr th {\n",
       "        vertical-align: top;\n",
       "    }\n",
       "\n",
       "    .dataframe thead th {\n",
       "        text-align: right;\n",
       "    }\n",
       "</style>\n",
       "<table border=\"1\" class=\"dataframe\">\n",
       "  <thead>\n",
       "    <tr style=\"text-align: right;\">\n",
       "      <th></th>\n",
       "      <th>value</th>\n",
       "      <th>timestamp</th>\n",
       "      <th>class</th>\n",
       "      <th>model_url</th>\n",
       "    </tr>\n",
       "  </thead>\n",
       "  <tbody>\n",
       "    <tr>\n",
       "      <th>nnlmes128n_2-stses-cos</th>\n",
       "      <td>0.633517</td>\n",
       "      <td>2021-06-14 23:53:11</td>\n",
       "      <td>BasicTFHubSTSEvaluator</td>\n",
       "      <td>https://tfhub.dev/google/nnlm-es-dim128-with-n...</td>\n",
       "    </tr>\n",
       "    <tr>\n",
       "      <th>usem3-stses-cos</th>\n",
       "      <td>0.842452</td>\n",
       "      <td>2021-06-14 23:50:57</td>\n",
       "      <td>BasicTFHubSTSEvaluator</td>\n",
       "      <td>https://tfhub.dev/google/universal-sentence-en...</td>\n",
       "    </tr>\n",
       "  </tbody>\n",
       "</table>\n",
       "</div>"
      ],
      "text/plain": [
       "                           value            timestamp                   class  \\\n",
       "nnlmes128n_2-stses-cos  0.633517  2021-06-14 23:53:11  BasicTFHubSTSEvaluator   \n",
       "usem3-stses-cos         0.842452  2021-06-14 23:50:57  BasicTFHubSTSEvaluator   \n",
       "\n",
       "                                                                model_url  \n",
       "nnlmes128n_2-stses-cos  https://tfhub.dev/google/nnlm-es-dim128-with-n...  \n",
       "usem3-stses-cos         https://tfhub.dev/google/universal-sentence-en...  "
      ]
     },
     "execution_count": 5,
     "metadata": {},
     "output_type": "execute_result"
    },
    {
     "data": {
      "image/png": "[encoded data removed]",
      "text/plain": [
       "<Figure size 576x576 with 1 Axes>"
      ]
     },
     "metadata": {
      "needs_background": "light"
     },
     "output_type": "display_data"
    }
   ],
   "source": [
    "data = get_benchmark_df(evaluations, \"sts-es\", eval_metric=\"spearman\")\n",
    "plot_benchmark(data, \"STS-es - Spearman\", join(IMG_DIR, \"stses-spearman\"))\n",
    "data"
   ]
  }
 ],
 "metadata": {
  "kernelspec": {
   "display_name": "Python 3",
   "language": "python",
   "name": "python3"
  },
  "language_info": {
   "codemirror_mode": {
    "name": "ipython",
    "version": 3
   },
   "file_extension": ".py",
   "mimetype": "text/x-python",
   "name": "python",
   "nbconvert_exporter": "python",
   "pygments_lexer": "ipython3",
   "version": "3.6.9"
  }
 },
 "nbformat": 4,
 "nbformat_minor": 5
}
